{
 "cells": [
  {
   "cell_type": "markdown",
   "metadata": {},
   "source": [
    "# Plagiarism Detection Model\n",
    "\n",
    "Now that you've created training and test data, you are ready to define and train a model. Your goal in this notebook, will be to train a binary classification model that learns to label an answer file as either plagiarized or not, based on the features you provide the model.\n",
    "\n",
    "This task will be broken down into a few discrete steps:\n",
    "\n",
    "* Upload your data to S3.\n",
    "* Define a binary classification model and a training script.\n",
    "* Train your model and deploy it.\n",
    "* Evaluate your deployed classifier and answer some questions about your approach.\n",
    "\n",
    "To complete this notebook, you'll have to complete all given exercises and answer all the questions in this notebook.\n",
    "> All your tasks will be clearly labeled **EXERCISE** and questions as **QUESTION**.\n",
    "\n",
    "It will be up to you to explore different classification models and decide on a model that gives you the best performance for this dataset.\n",
    "\n",
    "---"
   ]
  },
  {
   "cell_type": "markdown",
   "metadata": {},
   "source": [
    "## Load Data to S3\n",
    "\n",
    "In the last notebook, you should have created two files: a `training.csv` and `test.csv` file with the features and class labels for the given corpus of plagiarized/non-plagiarized text data. \n",
    "\n",
    ">The below cells load in some AWS SageMaker libraries and creates a default bucket. After creating this bucket, you can upload your locally stored data to S3.\n",
    "\n",
    "Save your train and test `.csv` feature files, locally. To do this you can run the second notebook \"2_Plagiarism_Feature_Engineering\" in SageMaker or you can manually upload your files to this notebook using the upload icon in Jupyter Lab. Then you can upload local files to S3 by using `sagemaker_session.upload_data` and pointing directly to where the training data is saved."
   ]
  },
  {
   "cell_type": "code",
   "execution_count": 1,
   "metadata": {},
   "outputs": [],
   "source": [
    "import pandas as pd\n",
    "import boto3\n",
    "import sagemaker"
   ]
  },
  {
   "cell_type": "code",
   "execution_count": 2,
   "metadata": {},
   "outputs": [],
   "source": [
    "\"\"\"\n",
    "DON'T MODIFY ANYTHING IN THIS CELL THAT IS BELOW THIS LINE\n",
    "\"\"\"\n",
    "# session and role\n",
    "sagemaker_session = sagemaker.Session()\n",
    "role = sagemaker.get_execution_role()\n",
    "\n",
    "# create an S3 bucket\n",
    "bucket = sagemaker_session.default_bucket()"
   ]
  },
  {
   "cell_type": "markdown",
   "metadata": {},
   "source": [
    "## EXERCISE: Upload your training data to S3\n",
    "\n",
    "Specify the `data_dir` where you've saved your `train.csv` file. Decide on a descriptive `prefix` that defines where your data will be uploaded in the default S3 bucket. Finally, create a pointer to your training data by calling `sagemaker_session.upload_data` and passing in the required parameters. It may help to look at the [Session documentation](https://sagemaker.readthedocs.io/en/stable/session.html#sagemaker.session.Session.upload_data) or previous SageMaker code examples.\n",
    "\n",
    "You are expected to upload your entire directory. Later, the training script will only access the `train.csv` file."
   ]
  },
  {
   "cell_type": "code",
   "execution_count": 6,
   "metadata": {},
   "outputs": [
    {
     "name": "stdout",
     "output_type": "stream",
     "text": [
      "s3://sagemaker-us-east-2-979781493470/plagiarism_data\n"
     ]
    }
   ],
   "source": [
    "# should be the name of directory you created to save your features data\n",
    "data_dir = 'plagiarism_data'\n",
    "\n",
    "# set prefix, a descriptive name for a directory  \n",
    "prefix = 'plagiarism_data'\n",
    "\n",
    "# upload all data to S3\n",
    "input_data = sagemaker_session.upload_data(path=data_dir, bucket=bucket, key_prefix=prefix)\n",
    "print(input_data)"
   ]
  },
  {
   "cell_type": "markdown",
   "metadata": {},
   "source": [
    "### Test cell\n",
    "\n",
    "Test that your data has been successfully uploaded. The below cell prints out the items in your S3 bucket and will throw an error if it is empty. You should see the contents of your `data_dir` and perhaps some checkpoints. If you see any other files listed, then you may have some old model files that you can delete via the S3 console (though, additional files shouldn't affect the performance of model developed in this notebook)."
   ]
  },
  {
   "cell_type": "code",
   "execution_count": 3,
   "metadata": {},
   "outputs": [
    {
     "name": "stdout",
     "output_type": "stream",
     "text": [
      "creditcard/linear-learner-2019-06-17-01-08-15-475/output/model.tar.gz\n",
      "creditcard/linear-learner-2019-06-17-01-27-34-944/output/model.tar.gz\n",
      "creditcard/linear-learner-2019-06-17-01-48-22-848/output/model.tar.gz\n",
      "creditcard/linear-learner-2019-06-17-13-00-24-510/output/model.tar.gz\n",
      "plagiarism_data/test.csv\n",
      "plagiarism_data/train.csv\n",
      "sagemaker-pytorch-2019-06-18-00-46-36-762/output/model.tar.gz\n",
      "sagemaker-pytorch-2019-06-18-00-46-36-762/source/sourcedir.tar.gz\n",
      "sagemaker-pytorch-2019-06-18-00-55-10-445/output/model.tar.gz\n",
      "sagemaker-pytorch-2019-06-18-00-55-10-445/source/sourcedir.tar.gz\n",
      "sagemaker-pytorch-2019-06-18-01-02-37-698/sourcedir.tar.gz\n",
      "sagemaker-record-sets/LinearLearner-2019-06-17-01-07-20-748/.amazon.manifest\n",
      "sagemaker-record-sets/LinearLearner-2019-06-17-01-07-20-748/matrix_0.pbr\n",
      "sagemaker-record-sets/LinearLearner-2019-06-17-01-08-03-016/.amazon.manifest\n",
      "sagemaker-record-sets/LinearLearner-2019-06-17-01-08-03-016/matrix_0.pbr\n",
      "sagemaker-record-sets/LinearLearner-2019-06-17-12-57-01-541/.amazon.manifest\n",
      "sagemaker-record-sets/LinearLearner-2019-06-17-12-57-01-541/matrix_0.pbr\n",
      "sagemaker/moon-data/train.csv\n",
      "Test passed!\n"
     ]
    }
   ],
   "source": [
    "\"\"\"\n",
    "DON'T MODIFY ANYTHING IN THIS CELL THAT IS BELOW THIS LINE\n",
    "\"\"\"\n",
    "# confirm that data is in S3 bucket\n",
    "empty_check = []\n",
    "for obj in boto3.resource('s3').Bucket(bucket).objects.all():\n",
    "    empty_check.append(obj.key)\n",
    "    print(obj.key)\n",
    "\n",
    "assert len(empty_check) !=0, 'S3 bucket is empty.'\n",
    "print('Test passed!')"
   ]
  },
  {
   "cell_type": "markdown",
   "metadata": {},
   "source": [
    "---\n",
    "\n",
    "# Modeling\n",
    "\n",
    "Now that you've uploaded your training data, it's time to define and train a model!\n",
    "\n",
    "The type of model you create is up to you. For a binary classification task, you can choose to go one of three routes:\n",
    "* Use a built-in classification algorithm, like LinearLearner.\n",
    "* Define a custom Scikit-learn classifier, a comparison of models can be found [here](https://scikit-learn.org/stable/auto_examples/classification/plot_classifier_comparison.html).\n",
    "* Define a custom PyTorch neural network classifier. \n",
    "\n",
    "It will be up to you to test out a variety of models and choose the best one. Your project will be graded on the accuracy of your final model. \n",
    " \n",
    "---\n",
    "\n",
    "## EXERCISE: Complete a training script \n",
    "\n",
    "To implement a custom classifier, you'll need to complete a `train.py` script. You've been given the folders `source_sklearn` and `source_pytorch` which hold starting code for a custom Scikit-learn model and a PyTorch model, respectively. Each directory has a `train.py` training script. To complete this project **you only need to complete one of these scripts**; the script that is responsible for training your final model.\n",
    "\n",
    "A typical training script:\n",
    "* Loads training data from a specified directory\n",
    "* Parses any training & model hyperparameters (ex. nodes in a neural network, training epochs, etc.)\n",
    "* Instantiates a model of your design, with any specified hyperparams\n",
    "* Trains that model \n",
    "* Finally, saves the model so that it can be hosted/deployed, later\n",
    "\n",
    "### Defining and training a model\n",
    "Much of the training script code is provided for you. Almost all of your work will be done in the `if __name__ == '__main__':` section. To complete a `train.py` file, you will:\n",
    "1. Import any extra libraries you need\n",
    "2. Define any additional model training hyperparameters using `parser.add_argument`\n",
    "2. Define a model in the `if __name__ == '__main__':` section\n",
    "3. Train the model in that same section\n",
    "\n",
    "Below, you can use `!pygmentize` to display an existing `train.py` file. Read through the code; all of your tasks are marked with `TODO` comments. \n",
    "\n",
    "**Note: If you choose to create a custom PyTorch model, you will be responsible for defining the model in the `model.py` file,** and a `predict.py` file is provided. If you choose to use Scikit-learn, you only need a `train.py` file; you may import a classifier from the `sklearn` library."
   ]
  },
  {
   "cell_type": "code",
   "execution_count": null,
   "metadata": {
    "collapsed": true
   },
   "outputs": [],
   "source": [
    "# directory can be changed to: source_sklearn or source_pytorch\n",
    "!pygmentize source_sklearn/train.py"
   ]
  },
  {
   "cell_type": "markdown",
   "metadata": {},
   "source": [
    "### Provided code\n",
    "\n",
    "If you read the code above, you can see that the starter code includes a few things:\n",
    "* Model loading (`model_fn`) and saving code\n",
    "* Getting SageMaker's default hyperparameters\n",
    "* Loading the training data by name, `train.csv` and extracting the features and labels, `train_x`, and `train_y`\n",
    "\n",
    "If you'd like to read more about model saving with [joblib for sklearn](https://scikit-learn.org/stable/modules/model_persistence.html) or with [torch.save](https://pytorch.org/tutorials/beginner/saving_loading_models.html), click on the provided links."
   ]
  },
  {
   "cell_type": "markdown",
   "metadata": {},
   "source": [
    "---\n",
    "# Create an Estimator\n",
    "\n",
    "When a custom model is constructed in SageMaker, an entry point must be specified. This is the Python file which will be executed when the model is trained; the `train.py` function you specified above. To run a custom training script in SageMaker, construct an estimator, and fill in the appropriate constructor arguments:\n",
    "\n",
    "* **entry_point**: The path to the Python script SageMaker runs for training and prediction.\n",
    "* **source_dir**: The path to the training script directory `source_sklearn` OR `source_pytorch`.\n",
    "* **entry_point**: The path to the Python script SageMaker runs for training and prediction.\n",
    "* **source_dir**: The path to the training script directory `train_sklearn` OR `train_pytorch`.\n",
    "* **entry_point**: The path to the Python script SageMaker runs for training.\n",
    "* **source_dir**: The path to the training script directory `train_sklearn` OR `train_pytorch`.\n",
    "* **role**: Role ARN, which was specified, above.\n",
    "* **train_instance_count**: The number of training instances (should be left at 1).\n",
    "* **train_instance_type**: The type of SageMaker instance for training. Note: Because Scikit-learn does not natively support GPU training, Sagemaker Scikit-learn does not currently support training on GPU instance types.\n",
    "* **sagemaker_session**: The session used to train on Sagemaker.\n",
    "* **hyperparameters** (optional): A dictionary `{'name':value, ..}` passed to the train function as hyperparameters.\n",
    "\n",
    "Note: For a PyTorch model, there is another optional argument **framework_version**, which you can set to the latest version of PyTorch, `1.0`.\n",
    "\n",
    "## EXERCISE: Define a Scikit-learn or PyTorch estimator\n",
    "\n",
    "To import your desired estimator, use one of the following lines:\n",
    "```\n",
    "from sagemaker.sklearn.estimator import SKLearn\n",
    "```\n",
    "```\n",
    "from sagemaker.pytorch import PyTorch\n",
    "```"
   ]
  },
  {
   "cell_type": "code",
   "execution_count": 25,
   "metadata": {},
   "outputs": [],
   "source": [
    "\n",
    "# your import and estimator code, here\n",
    "from sagemaker.pytorch import PyTorch\n",
    "\n",
    "# should be the name of directory you created to save your features data\n",
    "data_dir = 'plagiarism_data'\n",
    "\n",
    "# set prefix, a descriptive name for a directory  \n",
    "prefix = 'plagiarism_data'\n",
    "\n",
    "# specify an output path\n",
    "# prefix is specified above\n",
    "output_path = 's3://{}/{}'.format(bucket, prefix)\n",
    "\n",
    "# instantiate a pytorch estimator\n",
    "estimator = PyTorch(entry_point='train.py',\n",
    "                    source_dir='source_pytorch', # this should be just \"source\" for your code\n",
    "                    role=role,\n",
    "                    framework_version='1.0',\n",
    "                    train_instance_count=1,\n",
    "                    train_instance_type='ml.c4.xlarge',\n",
    "                    output_path=output_path,\n",
    "                    sagemaker_session=sagemaker_session,\n",
    "                    hyperparameters={\n",
    "                        'input_features': 3,  # num of features\n",
    "                        'hidden_dim': 20,\n",
    "                        'output_dim': 1,\n",
    "                        'epochs': 80, # could change to higher\n",
    "                        'lr': 0.005\n",
    "                    })"
   ]
  },
  {
   "cell_type": "markdown",
   "metadata": {},
   "source": [
    "## EXERCISE: Train the estimator\n",
    "\n",
    "Train your estimator on the training data stored in S3. This should create a training job that you can monitor in your SageMaker console."
   ]
  },
  {
   "cell_type": "code",
   "execution_count": 27,
   "metadata": {},
   "outputs": [
    {
     "name": "stdout",
     "output_type": "stream",
     "text": [
      "2019-06-21 17:04:52 Starting - Starting the training job...\n",
      "2019-06-21 17:04:54 Starting - Launching requested ML instances......\n",
      "2019-06-21 17:06:00 Starting - Preparing the instances for training...\n",
      "2019-06-21 17:06:40 Downloading - Downloading input data\n",
      "2019-06-21 17:06:40 Training - Downloading the training image.....\n",
      "\u001b[31mbash: cannot set terminal process group (-1): Inappropriate ioctl for device\u001b[0m\n",
      "\u001b[31mbash: no job control in this shell\u001b[0m\n",
      "\u001b[31m2019-06-21 17:07:30,663 sagemaker-containers INFO     Imported framework sagemaker_pytorch_container.training\u001b[0m\n",
      "\u001b[31m2019-06-21 17:07:30,665 sagemaker-containers INFO     No GPUs detected (normal if no gpus installed)\u001b[0m\n",
      "\u001b[31m2019-06-21 17:07:30,678 sagemaker_pytorch_container.training INFO     Block until all host DNS lookups succeed.\u001b[0m\n",
      "\u001b[31m2019-06-21 17:07:30,893 sagemaker_pytorch_container.training INFO     Invoking user training script.\u001b[0m\n",
      "\u001b[31m2019-06-21 17:07:31,172 sagemaker-containers INFO     Module train does not provide a setup.py. \u001b[0m\n",
      "\u001b[31mGenerating setup.py\u001b[0m\n",
      "\u001b[31m2019-06-21 17:07:31,172 sagemaker-containers INFO     Generating setup.cfg\u001b[0m\n",
      "\u001b[31m2019-06-21 17:07:31,172 sagemaker-containers INFO     Generating MANIFEST.in\u001b[0m\n",
      "\u001b[31m2019-06-21 17:07:31,172 sagemaker-containers INFO     Installing module with the following command:\u001b[0m\n",
      "\u001b[31m/usr/bin/python -m pip install -U . \u001b[0m\n",
      "\u001b[31mProcessing /opt/ml/code\u001b[0m\n",
      "\u001b[31mBuilding wheels for collected packages: train\n",
      "  Running setup.py bdist_wheel for train: started\n",
      "  Running setup.py bdist_wheel for train: finished with status 'done'\n",
      "  Stored in directory: /tmp/pip-ephem-wheel-cache-4ue6rw60/wheels/35/24/16/37574d11bf9bde50616c67372a334f94fa8356bc7164af8ca3\u001b[0m\n",
      "\u001b[31mSuccessfully built train\u001b[0m\n",
      "\u001b[31mInstalling collected packages: train\u001b[0m\n",
      "\u001b[31mSuccessfully installed train-1.0.0\u001b[0m\n",
      "\u001b[31mYou are using pip version 18.1, however version 19.1.1 is available.\u001b[0m\n",
      "\u001b[31mYou should consider upgrading via the 'pip install --upgrade pip' command.\u001b[0m\n",
      "\u001b[31m2019-06-21 17:07:32,813 sagemaker-containers INFO     No GPUs detected (normal if no gpus installed)\u001b[0m\n",
      "\u001b[31m2019-06-21 17:07:32,825 sagemaker-containers INFO     Invoking user script\n",
      "\u001b[0m\n",
      "\u001b[31mTraining Env:\n",
      "\u001b[0m\n",
      "\u001b[31m{\n",
      "    \"additional_framework_parameters\": {},\n",
      "    \"channel_input_dirs\": {\n",
      "        \"train\": \"/opt/ml/input/data/train\"\n",
      "    },\n",
      "    \"current_host\": \"algo-1\",\n",
      "    \"framework_module\": \"sagemaker_pytorch_container.training:main\",\n",
      "    \"hosts\": [\n",
      "        \"algo-1\"\n",
      "    ],\n",
      "    \"hyperparameters\": {\n",
      "        \"hidden_dim\": 20,\n",
      "        \"lr\": 0.005,\n",
      "        \"input_features\": 3,\n",
      "        \"epochs\": 80,\n",
      "        \"output_dim\": 1\n",
      "    },\n",
      "    \"input_config_dir\": \"/opt/ml/input/config\",\n",
      "    \"input_data_config\": {\n",
      "        \"train\": {\n",
      "            \"TrainingInputMode\": \"File\",\n",
      "            \"S3DistributionType\": \"FullyReplicated\",\n",
      "            \"RecordWrapperType\": \"None\"\n",
      "        }\n",
      "    },\n",
      "    \"input_dir\": \"/opt/ml/input\",\n",
      "    \"is_master\": true,\n",
      "    \"job_name\": \"sagemaker-pytorch-2019-06-21-17-04-51-832\",\n",
      "    \"log_level\": 20,\n",
      "    \"master_hostname\": \"algo-1\",\n",
      "    \"model_dir\": \"/opt/ml/model\",\n",
      "    \"module_dir\": \"s3://sagemaker-us-east-2-979781493470/sagemaker-pytorch-2019-06-21-17-04-51-832/source/sourcedir.tar.gz\",\n",
      "    \"module_name\": \"train\",\n",
      "    \"network_interface_name\": \"eth0\",\n",
      "    \"num_cpus\": 4,\n",
      "    \"num_gpus\": 0,\n",
      "    \"output_data_dir\": \"/opt/ml/output/data\",\n",
      "    \"output_dir\": \"/opt/ml/output\",\n",
      "    \"output_intermediate_dir\": \"/opt/ml/output/intermediate\",\n",
      "    \"resource_config\": {\n",
      "        \"current_host\": \"algo-1\",\n",
      "        \"hosts\": [\n",
      "            \"algo-1\"\n",
      "        ],\n",
      "        \"network_interface_name\": \"eth0\"\n",
      "    },\n",
      "    \"user_entry_point\": \"train.py\"\u001b[0m\n",
      "\u001b[31m}\n",
      "\u001b[0m\n",
      "\u001b[31mEnvironment variables:\n",
      "\u001b[0m\n",
      "\u001b[31mSM_HOSTS=[\"algo-1\"]\u001b[0m\n",
      "\u001b[31mSM_NETWORK_INTERFACE_NAME=eth0\u001b[0m\n",
      "\u001b[31mSM_HPS={\"epochs\":80,\"hidden_dim\":20,\"input_features\":3,\"lr\":0.005,\"output_dim\":1}\u001b[0m\n",
      "\u001b[31mSM_USER_ENTRY_POINT=train.py\u001b[0m\n",
      "\u001b[31mSM_FRAMEWORK_PARAMS={}\u001b[0m\n",
      "\u001b[31mSM_RESOURCE_CONFIG={\"current_host\":\"algo-1\",\"hosts\":[\"algo-1\"],\"network_interface_name\":\"eth0\"}\u001b[0m\n",
      "\u001b[31mSM_INPUT_DATA_CONFIG={\"train\":{\"RecordWrapperType\":\"None\",\"S3DistributionType\":\"FullyReplicated\",\"TrainingInputMode\":\"File\"}}\u001b[0m\n",
      "\u001b[31mSM_OUTPUT_DATA_DIR=/opt/ml/output/data\u001b[0m\n",
      "\u001b[31mSM_CHANNELS=[\"train\"]\u001b[0m\n",
      "\u001b[31mSM_CURRENT_HOST=algo-1\u001b[0m\n",
      "\u001b[31mSM_MODULE_NAME=train\u001b[0m\n",
      "\u001b[31mSM_LOG_LEVEL=20\u001b[0m\n",
      "\u001b[31mSM_FRAMEWORK_MODULE=sagemaker_pytorch_container.training:main\u001b[0m\n",
      "\u001b[31mSM_INPUT_DIR=/opt/ml/input\u001b[0m\n",
      "\u001b[31mSM_INPUT_CONFIG_DIR=/opt/ml/input/config\u001b[0m\n",
      "\u001b[31mSM_OUTPUT_DIR=/opt/ml/output\u001b[0m\n",
      "\u001b[31mSM_NUM_CPUS=4\u001b[0m\n",
      "\u001b[31mSM_NUM_GPUS=0\u001b[0m\n",
      "\u001b[31mSM_MODEL_DIR=/opt/ml/model\u001b[0m\n",
      "\u001b[31mSM_MODULE_DIR=s3://sagemaker-us-east-2-979781493470/sagemaker-pytorch-2019-06-21-17-04-51-832/source/sourcedir.tar.gz\u001b[0m\n",
      "\u001b[31mSM_TRAINING_ENV={\"additional_framework_parameters\":{},\"channel_input_dirs\":{\"train\":\"/opt/ml/input/data/train\"},\"current_host\":\"algo-1\",\"framework_module\":\"sagemaker_pytorch_container.training:main\",\"hosts\":[\"algo-1\"],\"hyperparameters\":{\"epochs\":80,\"hidden_dim\":20,\"input_features\":3,\"lr\":0.005,\"output_dim\":1},\"input_config_dir\":\"/opt/ml/input/config\",\"input_data_config\":{\"train\":{\"RecordWrapperType\":\"None\",\"S3DistributionType\":\"FullyReplicated\",\"TrainingInputMode\":\"File\"}},\"input_dir\":\"/opt/ml/input\",\"is_master\":true,\"job_name\":\"sagemaker-pytorch-2019-06-21-17-04-51-832\",\"log_level\":20,\"master_hostname\":\"algo-1\",\"model_dir\":\"/opt/ml/model\",\"module_dir\":\"s3://sagemaker-us-east-2-979781493470/sagemaker-pytorch-2019-06-21-17-04-51-832/source/sourcedir.tar.gz\",\"module_name\":\"train\",\"network_interface_name\":\"eth0\",\"num_cpus\":4,\"num_gpus\":0,\"output_data_dir\":\"/opt/ml/output/data\",\"output_dir\":\"/opt/ml/output\",\"output_intermediate_dir\":\"/opt/ml/output/intermediate\",\"resource_config\":{\"current_host\":\"algo-1\",\"hosts\":[\"algo-1\"],\"network_interface_name\":\"eth0\"},\"user_entry_point\":\"train.py\"}\u001b[0m\n",
      "\u001b[31mSM_USER_ARGS=[\"--epochs\",\"80\",\"--hidden_dim\",\"20\",\"--input_features\",\"3\",\"--lr\",\"0.005\",\"--output_dim\",\"1\"]\u001b[0m\n",
      "\u001b[31mSM_OUTPUT_INTERMEDIATE_DIR=/opt/ml/output/intermediate\u001b[0m\n",
      "\u001b[31mSM_CHANNEL_TRAIN=/opt/ml/input/data/train\u001b[0m\n",
      "\u001b[31mSM_HP_HIDDEN_DIM=20\u001b[0m\n",
      "\u001b[31mSM_HP_LR=0.005\u001b[0m\n",
      "\u001b[31mSM_HP_INPUT_FEATURES=3\u001b[0m\n",
      "\u001b[31mSM_HP_EPOCHS=80\u001b[0m\n",
      "\u001b[31mSM_HP_OUTPUT_DIM=1\u001b[0m\n",
      "\u001b[31mPYTHONPATH=/usr/local/bin:/usr/lib/python36.zip:/usr/lib/python3.6:/usr/lib/python3.6/lib-dynload:/usr/local/lib/python3.6/dist-packages:/usr/lib/python3/dist-packages\n",
      "\u001b[0m\n",
      "\u001b[31mInvoking script with the following command:\n",
      "\u001b[0m\n",
      "\u001b[31m/usr/bin/python -m train --epochs 80 --hidden_dim 20 --input_features 3 --lr 0.005 --output_dim 1\n",
      "\n",
      "\u001b[0m\n",
      "\u001b[31mUsing device cpu.\u001b[0m\n",
      "\u001b[31mGet train data loader.\u001b[0m\n",
      "\u001b[31mEpoch: 1, Loss: 0.7002618397985186\u001b[0m\n",
      "\u001b[31mEpoch: 2, Loss: 0.6718071103096008\u001b[0m\n",
      "\u001b[31mEpoch: 3, Loss: 0.6586934924125671\u001b[0m\n",
      "\u001b[31mEpoch: 4, Loss: 0.6463993276868548\u001b[0m\n",
      "\u001b[31mEpoch: 5, Loss: 0.6348979132516044\u001b[0m\n",
      "\u001b[31mEpoch: 6, Loss: 0.641384984765734\u001b[0m\n",
      "\u001b[31mEpoch: 7, Loss: 0.61787862437112\u001b[0m\n",
      "\u001b[31mEpoch: 8, Loss: 0.6296948790550232\u001b[0m\n",
      "\u001b[31mEpoch: 9, Loss: 0.6064939413751874\u001b[0m\n",
      "\u001b[31mEpoch: 10, Loss: 0.6069391965866089\u001b[0m\n",
      "\u001b[31mEpoch: 11, Loss: 0.6003660048757281\u001b[0m\n",
      "\u001b[31mEpoch: 12, Loss: 0.5784221887588501\u001b[0m\n",
      "\u001b[31mEpoch: 13, Loss: 0.5784038347857339\u001b[0m\n",
      "\u001b[31mEpoch: 14, Loss: 0.5374556311539241\u001b[0m\n",
      "\u001b[31mEpoch: 15, Loss: 0.5526569953986576\u001b[0m\n",
      "\u001b[31mEpoch: 16, Loss: 0.5430225602218083\u001b[0m\n",
      "\u001b[31mEpoch: 17, Loss: 0.5224140499319349\u001b[0m\n",
      "\u001b[31mEpoch: 18, Loss: 0.5146390582833972\u001b[0m\n",
      "\u001b[31mEpoch: 19, Loss: 0.4845360006604876\u001b[0m\n",
      "\u001b[31mEpoch: 20, Loss: 0.4700459028993334\u001b[0m\n",
      "\u001b[31mEpoch: 21, Loss: 0.4870003845010485\u001b[0m\n",
      "\u001b[31mEpoch: 22, Loss: 0.4485196811812265\u001b[0m\n",
      "\u001b[31mEpoch: 23, Loss: 0.4551243271146502\u001b[0m\n",
      "\u001b[31mEpoch: 24, Loss: 0.4484392063958304\u001b[0m\n",
      "\u001b[31mEpoch: 25, Loss: 0.4406096637248993\u001b[0m\n",
      "\u001b[31mEpoch: 26, Loss: 0.38588880215372356\u001b[0m\n",
      "\u001b[31mEpoch: 27, Loss: 0.410327353647777\u001b[0m\n",
      "\u001b[31mEpoch: 28, Loss: 0.4172706518854414\u001b[0m\n",
      "\u001b[31mEpoch: 29, Loss: 0.3942823942218508\u001b[0m\n",
      "\u001b[31mEpoch: 30, Loss: 0.379884558064597\u001b[0m\n",
      "\u001b[31mEpoch: 31, Loss: 0.39151922719819204\u001b[0m\n",
      "\u001b[31mEpoch: 32, Loss: 0.367168413741248\u001b[0m\n",
      "\u001b[31mEpoch: 33, Loss: 0.3664223381451198\u001b[0m\n",
      "\u001b[31mEpoch: 34, Loss: 0.3977181911468506\u001b[0m\n",
      "\u001b[31mEpoch: 35, Loss: 0.34857799325670513\u001b[0m\n",
      "\u001b[31mEpoch: 36, Loss: 0.3699119814804622\u001b[0m\n",
      "\u001b[31mEpoch: 37, Loss: 0.3849399323974337\u001b[0m\n",
      "\u001b[31mEpoch: 38, Loss: 0.36607054088796886\u001b[0m\n",
      "\u001b[31mEpoch: 39, Loss: 0.3542487493583134\u001b[0m\n",
      "\u001b[31mEpoch: 40, Loss: 0.3396267848355429\u001b[0m\n",
      "\u001b[31mEpoch: 41, Loss: 0.38723005993025644\u001b[0m\n",
      "\u001b[31mEpoch: 42, Loss: 0.3225455241543906\u001b[0m\n",
      "\u001b[31mEpoch: 43, Loss: 0.33451892861298155\u001b[0m\n",
      "\u001b[31mEpoch: 44, Loss: 0.3239103066069739\u001b[0m\n",
      "\u001b[31mEpoch: 45, Loss: 0.3044437063591821\u001b[0m\n",
      "\u001b[31mEpoch: 46, Loss: 0.3135773752416883\u001b[0m\n",
      "\u001b[31mEpoch: 47, Loss: 0.3202774333102362\u001b[0m\n",
      "\u001b[31mEpoch: 48, Loss: 0.33655594502176556\u001b[0m\n",
      "\u001b[31mEpoch: 49, Loss: 0.3258795610495976\u001b[0m\n",
      "\u001b[31mEpoch: 50, Loss: 0.33297606238297056\u001b[0m\n",
      "\u001b[31mEpoch: 51, Loss: 0.3435255693537848\u001b[0m\n",
      "\u001b[31mEpoch: 52, Loss: 0.3320685625076294\u001b[0m\n",
      "\u001b[31mEpoch: 53, Loss: 0.29420013087136404\u001b[0m\n",
      "\u001b[31mEpoch: 54, Loss: 0.33517510124615263\u001b[0m\n",
      "\u001b[31mEpoch: 55, Loss: 0.2683264889887401\u001b[0m\n",
      "\u001b[31mEpoch: 56, Loss: 0.32401360997131895\u001b[0m\n",
      "\u001b[31mEpoch: 57, Loss: 0.28699023595878054\u001b[0m\n",
      "\u001b[31mEpoch: 58, Loss: 0.2866292893886566\u001b[0m\n",
      "\u001b[31mEpoch: 59, Loss: 0.32496687344142366\u001b[0m\n",
      "\u001b[31mEpoch: 60, Loss: 0.32647587252514704\u001b[0m\n",
      "\u001b[31mEpoch: 61, Loss: 0.2863791840417044\u001b[0m\n",
      "\u001b[31mEpoch: 62, Loss: 0.3153641607080187\u001b[0m\n",
      "\u001b[31mEpoch: 63, Loss: 0.288887688091823\u001b[0m\n",
      "\u001b[31mEpoch: 64, Loss: 0.29792147661958424\u001b[0m\n",
      "\u001b[31mEpoch: 65, Loss: 0.27306218445301056\u001b[0m\n",
      "\u001b[31mEpoch: 66, Loss: 0.27080924808979034\u001b[0m\n",
      "\u001b[31mEpoch: 67, Loss: 0.32229681951659067\u001b[0m\n",
      "\u001b[31mEpoch: 68, Loss: 0.2828340913568224\u001b[0m\n",
      "\u001b[31mEpoch: 69, Loss: 0.2909782699176243\u001b[0m\n",
      "\u001b[31mEpoch: 70, Loss: 0.27827175174440655\u001b[0m\n",
      "\u001b[31mEpoch: 71, Loss: 0.2629673715148653\u001b[0m\n",
      "\u001b[31mEpoch: 72, Loss: 0.27621846220323015\u001b[0m\n",
      "\u001b[31mEpoch: 73, Loss: 0.2880403420754841\u001b[0m\n",
      "\u001b[31mEpoch: 74, Loss: 0.28151080863816397\u001b[0m\n",
      "\u001b[31mEpoch: 75, Loss: 0.3039954538856234\u001b[0m\n",
      "\u001b[31mEpoch: 76, Loss: 0.2843361720442772\u001b[0m\n",
      "\u001b[31mEpoch: 77, Loss: 0.26314314774104525\u001b[0m\n",
      "\u001b[31mEpoch: 78, Loss: 0.2806553276521819\u001b[0m\n",
      "\u001b[31mEpoch: 79, Loss: 0.26923760558877674\u001b[0m\n",
      "\u001b[31mEpoch: 80, Loss: 0.23830878095967428\u001b[0m\n",
      "\u001b[31mSaving the model.\u001b[0m\n",
      "\u001b[31m2019-06-21 17:07:34,800 sagemaker-containers INFO     Reporting training SUCCESS\u001b[0m\n"
     ]
    },
    {
     "name": "stdout",
     "output_type": "stream",
     "text": [
      "\n",
      "2019-06-21 17:07:40 Uploading - Uploading generated training model\n",
      "2019-06-21 17:07:40 Completed - Training job completed\n",
      "Billable seconds: 72\n",
      "CPU times: user 432 ms, sys: 24.1 ms, total: 456 ms\n",
      "Wall time: 3min 11s\n"
     ]
    }
   ],
   "source": [
    "%%time\n",
    "\n",
    "# Train your estimator on S3 training data\n",
    "estimator.fit({'train': input_data})\n"
   ]
  },
  {
   "cell_type": "markdown",
   "metadata": {},
   "source": [
    "## EXERCISE: Deploy the trained model\n",
    "\n",
    "After training, deploy your model to create a `predictor`. If you're using a PyTorch model, you'll need to create a trained `PyTorchModel` that accepts the trained `<model>.model_data` as an input parameter and points to the provided `source_pytorch/predict.py` file as an entry point. \n",
    "\n",
    "To deploy a trained model, you'll use `<model>.deploy`, which takes in two arguments:\n",
    "* **initial_instance_count**: The number of deployed instances (1).\n",
    "* **instance_type**: The type of SageMaker instance for deployment.\n",
    "\n",
    "Note: If you run into an instance error, it may be because you chose the wrong training or deployment instance_type. It may help to refer to your previous exercise code to see which types of instances we used."
   ]
  },
  {
   "cell_type": "code",
   "execution_count": 28,
   "metadata": {},
   "outputs": [
    {
     "name": "stdout",
     "output_type": "stream",
     "text": [
      "---------------------------------------------------------------------------------------------------!CPU times: user 706 ms, sys: 25.1 ms, total: 731 ms\n",
      "Wall time: 8min 20s\n"
     ]
    }
   ],
   "source": [
    "%%time\n",
    "\n",
    "# uncomment, if needed\n",
    "from sagemaker.pytorch import PyTorchModel\n",
    "model = PyTorchModel(model_data=estimator.model_data,\n",
    "                     role = role,\n",
    "                     framework_version='1.0',\n",
    "                     entry_point='predict.py',\n",
    "                     source_dir='source_pytorch')\n",
    "\n",
    "# deploy your model to create a predictor\n",
    "predictor = model.deploy(initial_instance_count=1, instance_type='ml.t2.medium')\n"
   ]
  },
  {
   "cell_type": "markdown",
   "metadata": {},
   "source": [
    "---\n",
    "# Evaluating Your Model\n",
    "\n",
    "Once your model is deployed, you can see how it performs when applied to our test data.\n",
    "\n",
    "The provided cell below, reads in the test data, assuming it is stored locally in `data_dir` and named `test.csv`. The labels and features are extracted from the `.csv` file."
   ]
  },
  {
   "cell_type": "code",
   "execution_count": 29,
   "metadata": {},
   "outputs": [],
   "source": [
    "\"\"\"\n",
    "DON'T MODIFY ANYTHING IN THIS CELL THAT IS BELOW THIS LINE\n",
    "\"\"\"\n",
    "import os\n",
    "\n",
    "# read in test data, assuming it is stored locally\n",
    "test_data = pd.read_csv(os.path.join(data_dir, \"test.csv\"), header=None, names=None)\n",
    "\n",
    "# labels are in the first column\n",
    "test_y = test_data.iloc[:,0]\n",
    "test_x = test_data.iloc[:,1:]"
   ]
  },
  {
   "cell_type": "markdown",
   "metadata": {},
   "source": [
    "## EXERCISE: Determine the accuracy of your model\n",
    "\n",
    "Use your deployed `predictor` to generate predicted, class labels for the test data. Compare those to the *true* labels, `test_y`, and calculate the accuracy as a value between 0 and 1.0 that indicates the fraction of test data that your model classified correctly. You may use [sklearn.metrics](https://scikit-learn.org/stable/modules/classes.html#module-sklearn.metrics) for this calculation.\n",
    "\n",
    "**To pass this project, your model should get at least 90% test accuracy.**"
   ]
  },
  {
   "cell_type": "code",
   "execution_count": 30,
   "metadata": {},
   "outputs": [
    {
     "name": "stdout",
     "output_type": "stream",
     "text": [
      "Test passed!\n"
     ]
    }
   ],
   "source": [
    "# First: generate predicted, class labels\n",
    "import numpy as np\n",
    "test_y_preds = np.squeeze(np.round(predictor.predict(test_x)))\n",
    "\n",
    "\n",
    "\"\"\"\n",
    "DON'T MODIFY ANYTHING IN THIS CELL THAT IS BELOW THIS LINE\n",
    "\"\"\"\n",
    "# test that your model generates the correct number of labels\n",
    "assert len(test_y_preds)==len(test_y), 'Unexpected number of predictions.'\n",
    "print('Test passed!')"
   ]
  },
  {
   "cell_type": "code",
   "execution_count": 34,
   "metadata": {},
   "outputs": [
    {
     "name": "stdout",
     "output_type": "stream",
     "text": [
      "\n",
      "Accuracy: \n",
      "1.0\n",
      "True positives: \n",
      "15\n",
      "False positives: \n",
      "0\n",
      "False negatives: \n",
      "0\n",
      "\n",
      "Predicted class labels: \n",
      "[1. 1. 1. 1. 1. 1. 0. 0. 0. 0. 0. 0. 1. 1. 1. 1. 1. 1. 0. 1. 0. 1. 1. 0.\n",
      " 0.]\n",
      "\n",
      "True class labels: \n",
      "[1 1 1 1 1 1 0 0 0 0 0 0 1 1 1 1 1 1 0 1 0 1 1 0 0]\n"
     ]
    }
   ],
   "source": [
    "# Second: calculate the test accuracy\n",
    "tp = np.logical_and(test_y, test_y_preds).sum()\n",
    "fp = np.logical_and(1-test_y, test_y_preds).sum()\n",
    "tn = np.logical_and(1-test_y, 1-test_y_preds).sum()  \n",
    "fn = np.logical_and(test_y, 1-test_y_preds).sum()\n",
    "\n",
    "accuracy = (tp + tn) / (tp + fp + tn + fn)\n",
    "\n",
    "print('\\nAccuracy: ')\n",
    "print(accuracy)\n",
    "\n",
    "print('True positives: ')\n",
    "print(tp)\n",
    "\n",
    "print('False positives: ')\n",
    "print(fp)\n",
    "\n",
    "print('False negatives: ')\n",
    "print(fn)\n",
    "\n",
    "## print out the array of predicted and true labels, if you want\n",
    "print('\\nPredicted class labels: ')\n",
    "print(test_y_preds)\n",
    "print('\\nTrue class labels: ')\n",
    "print(test_y.values)"
   ]
  },
  {
   "cell_type": "markdown",
   "metadata": {},
   "source": [
    "### Question 1: How many false positives and false negatives did your model produce, if any? And why do you think this is?"
   ]
  },
  {
   "cell_type": "markdown",
   "metadata": {},
   "source": [
    "** Answer**: \n",
    "0 false positives, 0 false negatives.  I believe its very possible that its very accurate because the plagiarism is very obvious and easy for the model to spot.\n"
   ]
  },
  {
   "cell_type": "markdown",
   "metadata": {},
   "source": [
    "### Question 2: How did you decide on the type of model to use? "
   ]
  },
  {
   "cell_type": "markdown",
   "metadata": {},
   "source": [
    "** Answer**:\n",
    "\n",
    "Through trial and error, I tried LinearLearner and PyTorch.  Pytorch I was able to get very good results by tweaking the Learn Rate, initially a value of 0.001 was not good enough and accuracy was not working per specs.  Updating the value to 0.005 i was able to minimize the epoch loss.\n",
    "\n"
   ]
  },
  {
   "cell_type": "markdown",
   "metadata": {},
   "source": [
    "----\n",
    "## EXERCISE: Clean up Resources\n",
    "\n",
    "After you're done evaluating your model, **delete your model endpoint**. You can do this with a call to `.delete_endpoint()`. You need to show, in this notebook, that the endpoint was deleted. Any other resources, you may delete from the AWS console, and you will find more instructions on cleaning up all your resources, below."
   ]
  },
  {
   "cell_type": "code",
   "execution_count": 36,
   "metadata": {},
   "outputs": [],
   "source": [
    "# uncomment and fill in the line below!\n",
    "predictor.delete_endpoint()\n"
   ]
  },
  {
   "cell_type": "markdown",
   "metadata": {},
   "source": [
    "### Deleting S3 bucket\n",
    "\n",
    "When you are *completely* done with training and testing models, you can also delete your entire S3 bucket. If you do this before you are done training your model, you'll have to recreate your S3 bucket and upload your training data again."
   ]
  },
  {
   "cell_type": "code",
   "execution_count": 35,
   "metadata": {},
   "outputs": [
    {
     "data": {
      "text/plain": [
       "[{'ResponseMetadata': {'RequestId': 'BCEF25FC5AA12B4F',\n",
       "   'HostId': 'kkoC5RfikRl/t3MQRrMbr5c/GlBjePeBJ35zklczPsADnsQvjO/fCt7M+NbBRzPLOsp7cnySp0E=',\n",
       "   'HTTPStatusCode': 200,\n",
       "   'HTTPHeaders': {'x-amz-id-2': 'kkoC5RfikRl/t3MQRrMbr5c/GlBjePeBJ35zklczPsADnsQvjO/fCt7M+NbBRzPLOsp7cnySp0E=',\n",
       "    'x-amz-request-id': 'BCEF25FC5AA12B4F',\n",
       "    'date': 'Fri, 21 Jun 2019 17:36:56 GMT',\n",
       "    'connection': 'close',\n",
       "    'content-type': 'application/xml',\n",
       "    'transfer-encoding': 'chunked',\n",
       "    'server': 'AmazonS3'},\n",
       "   'RetryAttempts': 0},\n",
       "  'Deleted': [{'Key': 'sagemaker-pytorch-2019-06-21-15-39-26-495/source/sourcedir.tar.gz'},\n",
       "   {'Key': 'sagemaker-record-sets/LinearLearner-2019-06-17-01-07-20-748/matrix_0.pbr'},\n",
       "   {'Key': 'creditcard/linear-learner-2019-06-17-01-48-22-848/output/model.tar.gz'},\n",
       "   {'Key': 'plagiarism_data/sagemaker-pytorch-2019-06-21-16-01-48-441/output/model.tar.gz'},\n",
       "   {'Key': 'sagemaker/moon-data/train.csv'},\n",
       "   {'Key': 'sagemaker-pytorch-2019-06-21-15-55-32-738/source/sourcedir.tar.gz'},\n",
       "   {'Key': 'plagiarism_data/train.csv'},\n",
       "   {'Key': 'sagemaker-record-sets/LinearLearner-2019-06-17-01-07-20-748/.amazon.manifest'},\n",
       "   {'Key': 'sagemaker-record-sets/LinearLearner-2019-06-17-01-08-03-016/matrix_0.pbr'},\n",
       "   {'Key': 'sagemaker-pytorch-2019-06-18-00-46-36-762/source/sourcedir.tar.gz'},\n",
       "   {'Key': 'sagemaker-pytorch-2019-06-18-00-55-10-445/source/sourcedir.tar.gz'},\n",
       "   {'Key': 'sagemaker-pytorch-2019-06-21-15-46-04-948/source/sourcedir.tar.gz'},\n",
       "   {'Key': 'sagemaker-pytorch-2019-06-18-00-46-36-762/output/model.tar.gz'},\n",
       "   {'Key': 'sagemaker-record-sets/LinearLearner-2019-06-17-12-57-01-541/.amazon.manifest'},\n",
       "   {'Key': 'sagemaker-record-sets/LinearLearner-2019-06-17-01-08-03-016/.amazon.manifest'},\n",
       "   {'Key': 'creditcard/linear-learner-2019-06-17-01-27-34-944/output/model.tar.gz'},\n",
       "   {'Key': 'plagiarism_data/test.csv'},\n",
       "   {'Key': 'sagemaker-pytorch-2019-06-18-00-55-10-445/output/model.tar.gz'},\n",
       "   {'Key': 'sagemaker-pytorch-2019-06-21-17-14-37-867/sourcedir.tar.gz'},\n",
       "   {'Key': 'sagemaker-pytorch-2019-06-18-01-02-37-698/sourcedir.tar.gz'},\n",
       "   {'Key': 'sagemaker-pytorch-2019-06-21-16-28-38-338/sourcedir.tar.gz'},\n",
       "   {'Key': 'creditcard/linear-learner-2019-06-17-01-08-15-475/output/model.tar.gz'},\n",
       "   {'Key': 'sagemaker-record-sets/LinearLearner-2019-06-17-12-57-01-541/matrix_0.pbr'},\n",
       "   {'Key': 'plagiarism_data/sagemaker-pytorch-2019-06-21-16-24-45-583/output/model.tar.gz'},\n",
       "   {'Key': 'sagemaker-pytorch-2019-06-21-16-01-48-441/source/sourcedir.tar.gz'},\n",
       "   {'Key': 'plagiarism_data/sagemaker-pytorch-2019-06-21-17-04-51-832/output/model.tar.gz'},\n",
       "   {'Key': 'sagemaker-pytorch-2019-06-21-16-24-45-583/source/sourcedir.tar.gz'},\n",
       "   {'Key': 'sagemaker-pytorch-2019-06-21-17-04-51-832/source/sourcedir.tar.gz'},\n",
       "   {'Key': 'creditcard/linear-learner-2019-06-17-13-00-24-510/output/model.tar.gz'}]}]"
      ]
     },
     "execution_count": 35,
     "metadata": {},
     "output_type": "execute_result"
    }
   ],
   "source": [
    "# deleting bucket, uncomment lines below\n",
    "\n",
    "bucket_to_delete = boto3.resource('s3').Bucket(bucket)\n",
    "bucket_to_delete.objects.all().delete()"
   ]
  },
  {
   "cell_type": "markdown",
   "metadata": {},
   "source": [
    "### Deleting all your models and instances\n",
    "\n",
    "When you are _completely_ done with this project and do **not** ever want to revisit this notebook, you can choose to delete all of your SageMaker notebook instances and models by following [these instructions](https://docs.aws.amazon.com/sagemaker/latest/dg/ex1-cleanup.html). Before you delete this notebook instance, I recommend at least downloading a copy and saving it, locally."
   ]
  },
  {
   "cell_type": "markdown",
   "metadata": {},
   "source": [
    "---\n",
    "## Further Directions\n",
    "\n",
    "There are many ways to improve or add on to this project to expand your learning or make this more of a unique project for you. A few ideas are listed below:\n",
    "* Train a classifier to predict the *category* (1-3) of plagiarism and not just plagiarized (1) or not (0).\n",
    "* Utilize a different and larger dataset to see if this model can be extended to other types of plagiarism.\n",
    "* Use language or character-level analysis to find different (and more) similarity features.\n",
    "* Write a complete pipeline function that accepts a source text and submitted text file, and classifies the submitted text as plagiarized or not.\n",
    "* Use API Gateway and a lambda function to deploy your model to a web application.\n",
    "\n",
    "These are all just options for extending your work. If you've completed all the exercises in this notebook, you've completed a real-world application, and can proceed to submit your project. Great job!"
   ]
  }
 ],
 "metadata": {
  "kernelspec": {
   "display_name": "conda_pytorch_p36",
   "language": "python",
   "name": "conda_pytorch_p36"
  },
  "language_info": {
   "codemirror_mode": {
    "name": "ipython",
    "version": 3
   },
   "file_extension": ".py",
   "mimetype": "text/x-python",
   "name": "python",
   "nbconvert_exporter": "python",
   "pygments_lexer": "ipython3",
   "version": "3.6.5"
  }
 },
 "nbformat": 4,
 "nbformat_minor": 2
}
